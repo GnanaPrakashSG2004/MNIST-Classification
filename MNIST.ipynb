{
 "cells": [
  {
   "cell_type": "markdown",
   "metadata": {},
   "source": [
    "# CNNs and Transformers"
   ]
  },
  {
   "cell_type": "markdown",
   "metadata": {},
   "source": [
    "## Imports and setup"
   ]
  },
  {
   "cell_type": "code",
   "execution_count": 3,
   "metadata": {},
   "outputs": [],
   "source": [
    "import torch\n",
    "import torch.nn as nn\n",
    "import torch.optim as optim\n",
    "\n",
    "from torchvision import datasets, transforms\n",
    "from sklearn.model_selection import train_test_split\n",
    "\n",
    "import os\n",
    "import wandb\n",
    "import numpy as np\n",
    "import matplotlib.pyplot as plt\n",
    "\n",
    "from tqdm import tqdm\n",
    "\n",
    "RANDOM_SEED = 42\n",
    "np.random.seed(RANDOM_SEED)\n",
    "torch.manual_seed(RANDOM_SEED)\n",
    "torch.backends.cudnn.deterministic = True\n",
    "torch.backends.cudnn.benchmark     = False"
   ]
  },
  {
   "cell_type": "markdown",
   "metadata": {},
   "source": [
    "## Data preparation"
   ]
  },
  {
   "cell_type": "code",
   "execution_count": 2,
   "metadata": {},
   "outputs": [],
   "source": [
    "mnist_train = datasets.MNIST(root='data', train=True,  transform=transforms.ToTensor(), download=True)\n",
    "mnist_test  = datasets.MNIST(root='data', train=False, transform=transforms.ToTensor(), download=True)"
   ]
  },
  {
   "cell_type": "markdown",
   "metadata": {},
   "source": [
    "<hr>"
   ]
  },
  {
   "cell_type": "markdown",
   "metadata": {},
   "source": [
    "## LeNet on MNIST"
   ]
  },
  {
   "cell_type": "markdown",
   "metadata": {},
   "source": [
    "### Data preparation and loader"
   ]
  },
  {
   "cell_type": "code",
   "execution_count": 4,
   "metadata": {},
   "outputs": [],
   "source": [
    "class MNISTDataLoaders():\n",
    "    def __init__(self, batch_size=64, train_subset_size=None):\n",
    "        self.transform    = transforms.Compose([transforms.ToTensor(), transforms.Normalize((0.1307,), (0.3081,))])\n",
    "\n",
    "        self.train_data   = datasets.MNIST(root='data', train=True,  transform=self.transform, download=True)\n",
    "        self.test_data    = datasets.MNIST(root='data', train=False, transform=self.transform, download=True)\n",
    "\n",
    "        if train_subset_size is None or train_subset_size == len(self.train_data):\n",
    "            self.train_loader = torch.utils.data.DataLoader(self.train_data, batch_size=batch_size, shuffle=True)\n",
    "\n",
    "        else:\n",
    "            data_indices      = np.arange(len(self.train_data))\n",
    "            train_indices, _  = train_test_split(data_indices, train_size=train_subset_size, stratify=self.train_data.targets.numpy())\n",
    "\n",
    "            self.train_data   = torch.utils.data.Subset(self.train_data, train_indices)\n",
    "            self.train_loader = torch.utils.data.DataLoader(self.train_data, batch_size=batch_size, shuffle=True)\n",
    "\n",
    "        self.test_loader  = torch.utils.data.DataLoader(self.test_data,  batch_size=batch_size, shuffle=False)"
   ]
  },
  {
   "cell_type": "markdown",
   "metadata": {},
   "source": [
    "### Model architecture"
   ]
  },
  {
   "cell_type": "code",
   "execution_count": 5,
   "metadata": {},
   "outputs": [],
   "source": [
    "class LeNet(nn.Module):\n",
    "    def __init__(self):\n",
    "        super(LeNet, self).__init__()\n",
    "\n",
    "        self.conv1   = nn.Conv2d(in_channels=1, out_channels=6,  kernel_size=5)\n",
    "        self.conv2   = nn.Conv2d(in_channels=6, out_channels=16, kernel_size=5)\n",
    "\n",
    "        self.fc1     = nn.Linear(in_features=16*4*4, out_features=120)\n",
    "        self.fc2     = nn.Linear(in_features=120,    out_features=84)\n",
    "        self.fc3     = nn.Linear(in_features=84,     out_features=10)\n",
    "\n",
    "        self.pool    = nn.MaxPool2d(kernel_size=2, stride=2)\n",
    "\n",
    "        self.relu    = nn.ReLU()\n",
    "        self.softmax = nn.Softmax(dim=1)\n",
    "\n",
    "    def forward(self, x):\n",
    "        # Pytorch has convention (batch_size, channels, height, width)\n",
    "        x = x.view(-1, 1, 28, 28)\n",
    "\n",
    "        x = self.conv1(x) # x -> 24x24x6\n",
    "        x = self.pool(x)  # x -> 12x12x6\n",
    "        x = self.relu(x)\n",
    "\n",
    "        x = self.conv2(x) # x -> 8x8x16\n",
    "        x = self.pool(x)  # x -> 4x4x16\n",
    "        x = self.relu(x)\n",
    "\n",
    "        x = x.view(-1, 16*4*4) # x -> 256 (Flattened to pass through fully connected layers)\n",
    "\n",
    "        x = self.fc1(x) # x -> 120\n",
    "        x = self.relu(x)\n",
    "\n",
    "        x = self.fc2(x) # x -> 84\n",
    "        x = self.relu(x)\n",
    "\n",
    "        x = self.fc3(x) # x -> 10\n",
    "        x = self.softmax(x) # For probabilities\n",
    "\n",
    "        return x"
   ]
  },
  {
   "cell_type": "markdown",
   "metadata": {},
   "source": [
    "### Trainer"
   ]
  },
  {
   "cell_type": "code",
   "execution_count": 6,
   "metadata": {},
   "outputs": [],
   "source": [
    "class Trainer():\n",
    "    def __init__(self, model, train_loader, test_loader, optimizer, criterion=nn.CrossEntropyLoss(), logging=False):\n",
    "        self.model        = model\n",
    "        self.train_loader = train_loader\n",
    "        self.test_loader  = test_loader\n",
    "        self.optimizer    = optimizer\n",
    "        self.criterion    = criterion\n",
    "        self.logging      = logging\n",
    "\n",
    "    def train_epoch(self, epochs=10, log_interval=100):\n",
    "        for epoch in range(epochs):\n",
    "            self.model.train()\n",
    "\n",
    "            train_loss = 0.0\n",
    "            train_acc  = 0.0\n",
    "\n",
    "            train_progress_bar = tqdm(enumerate(self.train_loader), total=len(self.train_loader))\n",
    "            for batch_idx, (data, target) in train_progress_bar:\n",
    "                self.optimizer.zero_grad()\n",
    "\n",
    "                output = self.model(data)\n",
    "\n",
    "                batch_loss  = self.criterion(output, target)\n",
    "                train_loss += batch_loss.mean().item()\n",
    "                batch_loss.backward()\n",
    "\n",
    "                pred         = output.argmax(dim=1)\n",
    "                train_acc  += (pred == target).sum().item() / len(target)\n",
    "\n",
    "                self.optimizer.step()\n",
    "\n",
    "                train_progress_bar.set_description(f'Epoch {epoch+1}/{epochs}: Train epoch')\n",
    "                train_progress_bar.set_postfix(Loss=train_loss/(batch_idx+1), Accuracy=train_acc/(batch_idx+1))\n",
    "\n",
    "                if self.logging and ((batch_idx+1) % log_interval == 0 or (batch_idx+1) == len(self.train_loader)):\n",
    "                    wandb.log({'Train Loss': train_loss/(batch_idx+1), 'Train Accuracy': train_acc/(batch_idx+1)})\n",
    "\n",
    "            self.test_epoch(epoch, epochs)\n",
    "\n",
    "            print()\n",
    "\n",
    "        return train_acc / len(self.train_loader), train_loss / len(self.train_loader)\n",
    "\n",
    "    def test_epoch(self, epoch=None, epochs=None, log_interval=25):\n",
    "        self.model.eval()\n",
    "\n",
    "        test_loss = 0\n",
    "        test_acc  = 0\n",
    "\n",
    "        with torch.no_grad():\n",
    "            test_progress_bar = tqdm(enumerate(self.test_loader), total=len(self.test_loader))\n",
    "            for batch_idx, (data, target) in test_progress_bar:\n",
    "                output = self.model(data)\n",
    "\n",
    "                test_loss += self.criterion(output, target).mean().item()\n",
    "\n",
    "                pred       = output.argmax(dim=1)\n",
    "                test_acc  += (pred == target).sum().item() / len(target)\n",
    "\n",
    "                if epoch is not None and epochs is not None:\n",
    "                    test_progress_bar.set_description(f'Epoch {epoch+1}/{epochs}: Test epoch ')\n",
    "                    test_progress_bar.set_postfix(Loss=test_loss/(batch_idx+1), Accuracy=test_acc/(batch_idx+1))\n",
    "                else:\n",
    "                    test_progress_bar.set_postfix(Loss=test_loss/(batch_idx+1), Accuracy=test_acc/(batch_idx+1))\n",
    "\n",
    "                if self.logging and ((batch_idx+1) % log_interval == 0 or (batch_idx+1) == len(self.test_loader)):\n",
    "                    wandb.log({'Test Loss': test_loss/(batch_idx+1), 'Test Accuracy': test_acc/(batch_idx+1)})\n",
    "\n",
    "        return test_acc / len(self.test_loader), test_loss / len(self.test_loader)\n",
    "\n",
    "    def predict(self, data):\n",
    "        self.model.eval()\n",
    "\n",
    "        with torch.no_grad():\n",
    "            output = self.model(data)\n",
    "            pred   = output.argmax(dim=1)\n",
    "\n",
    "        return pred"
   ]
  },
  {
   "cell_type": "code",
   "execution_count": 14,
   "metadata": {},
   "outputs": [
    {
     "name": "stderr",
     "output_type": "stream",
     "text": [
      "  0%|          | 0/938 [00:00<?, ?it/s]"
     ]
    },
    {
     "name": "stderr",
     "output_type": "stream",
     "text": [
      "Epoch 1/5: Train epoch: 100%|██████████| 938/938 [00:21<00:00, 44.26it/s, Accuracy=0.824, Loss=1.64]\n",
      "Epoch 1/5: Test epoch : 100%|██████████| 157/157 [00:02<00:00, 55.48it/s, Accuracy=0.966, Loss=1.5] \n"
     ]
    },
    {
     "name": "stdout",
     "output_type": "stream",
     "text": [
      "\n"
     ]
    },
    {
     "name": "stderr",
     "output_type": "stream",
     "text": [
      "Epoch 2/5: Train epoch: 100%|██████████| 938/938 [00:22<00:00, 42.18it/s, Accuracy=0.968, Loss=1.49]\n",
      "Epoch 2/5: Test epoch : 100%|██████████| 157/157 [00:03<00:00, 47.10it/s, Accuracy=0.976, Loss=1.48]\n"
     ]
    },
    {
     "name": "stdout",
     "output_type": "stream",
     "text": [
      "\n"
     ]
    },
    {
     "name": "stderr",
     "output_type": "stream",
     "text": [
      "Epoch 3/5: Train epoch: 100%|██████████| 938/938 [00:21<00:00, 43.59it/s, Accuracy=0.975, Loss=1.49]\n",
      "Epoch 3/5: Test epoch : 100%|██████████| 157/157 [00:02<00:00, 55.21it/s, Accuracy=0.979, Loss=1.48]\n"
     ]
    },
    {
     "name": "stdout",
     "output_type": "stream",
     "text": [
      "\n"
     ]
    },
    {
     "name": "stderr",
     "output_type": "stream",
     "text": [
      "Epoch 4/5: Train epoch: 100%|██████████| 938/938 [00:22<00:00, 41.92it/s, Accuracy=0.978, Loss=1.48]\n",
      "Epoch 4/5: Test epoch : 100%|██████████| 157/157 [00:02<00:00, 53.56it/s, Accuracy=0.98, Loss=1.48] \n"
     ]
    },
    {
     "name": "stdout",
     "output_type": "stream",
     "text": [
      "\n"
     ]
    },
    {
     "name": "stderr",
     "output_type": "stream",
     "text": [
      "Epoch 5/5: Train epoch: 100%|██████████| 938/938 [00:21<00:00, 43.49it/s, Accuracy=0.982, Loss=1.48]\n",
      "Epoch 5/5: Test epoch : 100%|██████████| 157/157 [00:02<00:00, 57.35it/s, Accuracy=0.983, Loss=1.48]"
     ]
    },
    {
     "name": "stdout",
     "output_type": "stream",
     "text": [
      "\n"
     ]
    },
    {
     "name": "stderr",
     "output_type": "stream",
     "text": [
      "\n"
     ]
    },
    {
     "data": {
      "text/plain": [
       "(0.9818263592750534, 1.4796368341201913)"
      ]
     },
     "execution_count": 14,
     "metadata": {},
     "output_type": "execute_result"
    }
   ],
   "source": [
    "data_loaders = MNISTDataLoaders()\n",
    "train_loader = data_loaders.train_loader\n",
    "test_loader  = data_loaders.test_loader\n",
    "\n",
    "model        = LeNet()\n",
    "\n",
    "optimizer    = optim.Adam(model.parameters(), lr=0.001)\n",
    "\n",
    "trainer      = Trainer(model, train_loader, test_loader, optimizer)\n",
    "\n",
    "trainer.train_epoch(epochs=5)"
   ]
  },
  {
   "cell_type": "markdown",
   "metadata": {},
   "source": [
    "<hr>"
   ]
  },
  {
   "cell_type": "markdown",
   "metadata": {},
   "source": [
    "## Hyperparameter tuning on batch size, learning rate and optimizer"
   ]
  },
  {
   "cell_type": "code",
   "execution_count": 15,
   "metadata": {},
   "outputs": [
    {
     "name": "stdout",
     "output_type": "stream",
     "text": [
      "Training model with batch_size=64, lr=0.001 and Adam optimizer...\n"
     ]
    },
    {
     "name": "stderr",
     "output_type": "stream",
     "text": [
      "Epoch 1/5: Train epoch: 100%|██████████| 938/938 [00:22<00:00, 42.15it/s, Accuracy=0.825, Loss=1.65]\n",
      "Epoch 1/5: Test epoch : 100%|██████████| 157/157 [00:03<00:00, 51.94it/s, Accuracy=0.879, Loss=1.58]\n"
     ]
    },
    {
     "name": "stdout",
     "output_type": "stream",
     "text": [
      "\n"
     ]
    },
    {
     "name": "stderr",
     "output_type": "stream",
     "text": [
      "Epoch 2/5: Train epoch: 100%|██████████| 938/938 [00:22<00:00, 41.40it/s, Accuracy=0.939, Loss=1.52]\n",
      "Epoch 2/5: Test epoch : 100%|██████████| 157/157 [00:03<00:00, 50.54it/s, Accuracy=0.973, Loss=1.49]\n"
     ]
    },
    {
     "name": "stdout",
     "output_type": "stream",
     "text": [
      "\n"
     ]
    },
    {
     "name": "stderr",
     "output_type": "stream",
     "text": [
      "Epoch 3/5: Train epoch: 100%|██████████| 938/938 [00:22<00:00, 41.79it/s, Accuracy=0.976, Loss=1.49]\n",
      "Epoch 3/5: Test epoch : 100%|██████████| 157/157 [00:03<00:00, 50.90it/s, Accuracy=0.977, Loss=1.48]\n"
     ]
    },
    {
     "name": "stdout",
     "output_type": "stream",
     "text": [
      "\n"
     ]
    },
    {
     "name": "stderr",
     "output_type": "stream",
     "text": [
      "Epoch 4/5: Train epoch: 100%|██████████| 938/938 [00:23<00:00, 40.42it/s, Accuracy=0.98, Loss=1.48] \n",
      "Epoch 4/5: Test epoch : 100%|██████████| 157/157 [00:03<00:00, 51.19it/s, Accuracy=0.98, Loss=1.48] \n"
     ]
    },
    {
     "name": "stdout",
     "output_type": "stream",
     "text": [
      "\n"
     ]
    },
    {
     "name": "stderr",
     "output_type": "stream",
     "text": [
      "Epoch 5/5: Train epoch: 100%|██████████| 938/938 [00:23<00:00, 40.49it/s, Accuracy=0.982, Loss=1.48]\n",
      "Epoch 5/5: Test epoch : 100%|██████████| 157/157 [00:03<00:00, 52.28it/s, Accuracy=0.984, Loss=1.48]\n"
     ]
    },
    {
     "name": "stdout",
     "output_type": "stream",
     "text": [
      "\n",
      "Evaluation on test set...\n"
     ]
    },
    {
     "name": "stderr",
     "output_type": "stream",
     "text": [
      "100%|██████████| 157/157 [00:02<00:00, 58.47it/s, Accuracy=0.984, Loss=1.48]\n"
     ]
    },
    {
     "name": "stdout",
     "output_type": "stream",
     "text": [
      "====================================================\n",
      "\n"
     ]
    },
    {
     "name": "stderr",
     "output_type": "stream",
     "text": [
      "wandb: WARNING Source type is set to 'repo' but some required information is missing from the environment. A job will not be created from this run. See https://docs.wandb.ai/guides/launch/create-job\n"
     ]
    },
    {
     "data": {
      "application/vnd.jupyter.widget-view+json": {
       "model_id": "1b3c2d65112341ee87abb5055619ce17",
       "version_major": 2,
       "version_minor": 0
      },
      "text/plain": [
       "VBox(children=(Label(value='Waiting for wandb.init()...\\r'), FloatProgress(value=0.011116447088877775, max=1.0…"
      ]
     },
     "metadata": {},
     "output_type": "display_data"
    },
    {
     "name": "stdout",
     "output_type": "stream",
     "text": [
      "Training model with batch_size=32, lr=0.001 and Adam optimizer...\n"
     ]
    },
    {
     "name": "stderr",
     "output_type": "stream",
     "text": [
      "Epoch 1/5: Train epoch: 100%|██████████| 1875/1875 [00:31<00:00, 59.01it/s, Accuracy=0.921, Loss=1.54]\n",
      "Epoch 1/5: Test epoch : 100%|██████████| 313/313 [00:03<00:00, 78.49it/s, Accuracy=0.972, Loss=1.49]\n"
     ]
    },
    {
     "name": "stdout",
     "output_type": "stream",
     "text": [
      "\n"
     ]
    },
    {
     "name": "stderr",
     "output_type": "stream",
     "text": [
      "Epoch 2/5: Train epoch: 100%|██████████| 1875/1875 [00:30<00:00, 61.42it/s, Accuracy=0.971, Loss=1.49]\n",
      "Epoch 2/5: Test epoch : 100%|██████████| 313/313 [00:03<00:00, 79.58it/s, Accuracy=0.969, Loss=1.49]\n"
     ]
    },
    {
     "name": "stdout",
     "output_type": "stream",
     "text": [
      "\n"
     ]
    },
    {
     "name": "stderr",
     "output_type": "stream",
     "text": [
      "Epoch 3/5: Train epoch: 100%|██████████| 1875/1875 [00:30<00:00, 62.04it/s, Accuracy=0.975, Loss=1.49]\n",
      "Epoch 3/5: Test epoch : 100%|██████████| 313/313 [00:03<00:00, 80.20it/s, Accuracy=0.98, Loss=1.48] \n"
     ]
    },
    {
     "name": "stdout",
     "output_type": "stream",
     "text": [
      "\n"
     ]
    },
    {
     "name": "stderr",
     "output_type": "stream",
     "text": [
      "Epoch 4/5: Train epoch: 100%|██████████| 1875/1875 [00:30<00:00, 61.45it/s, Accuracy=0.98, Loss=1.48] \n",
      "Epoch 4/5: Test epoch : 100%|██████████| 313/313 [00:03<00:00, 82.07it/s, Accuracy=0.981, Loss=1.48]\n"
     ]
    },
    {
     "name": "stdout",
     "output_type": "stream",
     "text": [
      "\n"
     ]
    },
    {
     "name": "stderr",
     "output_type": "stream",
     "text": [
      "Epoch 5/5: Train epoch: 100%|██████████| 1875/1875 [00:30<00:00, 61.12it/s, Accuracy=0.98, Loss=1.48]\n",
      "Epoch 5/5: Test epoch : 100%|██████████| 313/313 [00:03<00:00, 78.56it/s, Accuracy=0.985, Loss=1.48]\n"
     ]
    },
    {
     "name": "stdout",
     "output_type": "stream",
     "text": [
      "\n",
      "Evaluation on test set...\n"
     ]
    },
    {
     "name": "stderr",
     "output_type": "stream",
     "text": [
      "100%|██████████| 313/313 [00:03<00:00, 80.82it/s, Accuracy=0.985, Loss=1.48] \n"
     ]
    },
    {
     "name": "stdout",
     "output_type": "stream",
     "text": [
      "====================================================\n",
      "\n"
     ]
    },
    {
     "name": "stderr",
     "output_type": "stream",
     "text": [
      "wandb: WARNING Source type is set to 'repo' but some required information is missing from the environment. A job will not be created from this run. See https://docs.wandb.ai/guides/launch/create-job\n"
     ]
    },
    {
     "data": {
      "application/vnd.jupyter.widget-view+json": {
       "model_id": "6fd486126cae48af8217d25f7bd8f22a",
       "version_major": 2,
       "version_minor": 0
      },
      "text/plain": [
       "VBox(children=(Label(value='Waiting for wandb.init()...\\r'), FloatProgress(value=0.011113365111143341, max=1.0…"
      ]
     },
     "metadata": {},
     "output_type": "display_data"
    },
    {
     "name": "stdout",
     "output_type": "stream",
     "text": [
      "Training model with batch_size=64, lr=0.0001 and Adam optimizer...\n"
     ]
    },
    {
     "name": "stderr",
     "output_type": "stream",
     "text": [
      "Epoch 1/5: Train epoch: 100%|██████████| 938/938 [00:22<00:00, 40.79it/s, Accuracy=0.61, Loss=1.87] \n",
      "Epoch 1/5: Test epoch : 100%|██████████| 157/157 [00:02<00:00, 52.57it/s, Accuracy=0.751, Loss=1.72]\n"
     ]
    },
    {
     "name": "stdout",
     "output_type": "stream",
     "text": [
      "\n"
     ]
    },
    {
     "name": "stderr",
     "output_type": "stream",
     "text": [
      "Epoch 2/5: Train epoch: 100%|██████████| 938/938 [00:22<00:00, 42.03it/s, Accuracy=0.758, Loss=1.71]\n",
      "Epoch 2/5: Test epoch : 100%|██████████| 157/157 [00:02<00:00, 53.73it/s, Accuracy=0.77, Loss=1.69] \n"
     ]
    },
    {
     "name": "stdout",
     "output_type": "stream",
     "text": [
      "\n"
     ]
    },
    {
     "name": "stderr",
     "output_type": "stream",
     "text": [
      "Epoch 3/5: Train epoch: 100%|██████████| 938/938 [00:22<00:00, 41.07it/s, Accuracy=0.771, Loss=1.69]\n",
      "Epoch 3/5: Test epoch : 100%|██████████| 157/157 [00:03<00:00, 52.10it/s, Accuracy=0.777, Loss=1.68]\n"
     ]
    },
    {
     "name": "stdout",
     "output_type": "stream",
     "text": [
      "\n"
     ]
    },
    {
     "name": "stderr",
     "output_type": "stream",
     "text": [
      "Epoch 4/5: Train epoch: 100%|██████████| 938/938 [00:22<00:00, 41.49it/s, Accuracy=0.778, Loss=1.68]\n",
      "Epoch 4/5: Test epoch : 100%|██████████| 157/157 [00:03<00:00, 50.72it/s, Accuracy=0.779, Loss=1.68]\n"
     ]
    },
    {
     "name": "stdout",
     "output_type": "stream",
     "text": [
      "\n"
     ]
    },
    {
     "name": "stderr",
     "output_type": "stream",
     "text": [
      "Epoch 5/5: Train epoch: 100%|██████████| 938/938 [00:22<00:00, 40.84it/s, Accuracy=0.782, Loss=1.68]\n",
      "Epoch 5/5: Test epoch : 100%|██████████| 157/157 [00:03<00:00, 51.70it/s, Accuracy=0.782, Loss=1.68]\n"
     ]
    },
    {
     "name": "stdout",
     "output_type": "stream",
     "text": [
      "\n",
      "Evaluation on test set...\n"
     ]
    },
    {
     "name": "stderr",
     "output_type": "stream",
     "text": [
      "100%|██████████| 157/157 [00:02<00:00, 57.50it/s, Accuracy=0.782, Loss=1.68]\n"
     ]
    },
    {
     "name": "stdout",
     "output_type": "stream",
     "text": [
      "====================================================\n",
      "\n"
     ]
    },
    {
     "name": "stderr",
     "output_type": "stream",
     "text": [
      "wandb: WARNING Source type is set to 'repo' but some required information is missing from the environment. A job will not be created from this run. See https://docs.wandb.ai/guides/launch/create-job\n"
     ]
    },
    {
     "data": {
      "application/vnd.jupyter.widget-view+json": {
       "model_id": "436dd6ceec01414a8ed0307011321396",
       "version_major": 2,
       "version_minor": 0
      },
      "text/plain": [
       "VBox(children=(Label(value='Waiting for wandb.init()...\\r'), FloatProgress(value=0.011113345488896205, max=1.0…"
      ]
     },
     "metadata": {},
     "output_type": "display_data"
    },
    {
     "name": "stdout",
     "output_type": "stream",
     "text": [
      "Training model with batch_size=64, lr=0.001 and SGD optimizer...\n"
     ]
    },
    {
     "name": "stderr",
     "output_type": "stream",
     "text": [
      "Epoch 1/5: Train epoch: 100%|██████████| 938/938 [00:21<00:00, 43.41it/s, Accuracy=0.112, Loss=2.3]\n",
      "Epoch 1/5: Test epoch : 100%|██████████| 157/157 [00:03<00:00, 52.07it/s, Accuracy=0.119, Loss=2.3]\n"
     ]
    },
    {
     "name": "stdout",
     "output_type": "stream",
     "text": [
      "\n"
     ]
    },
    {
     "name": "stderr",
     "output_type": "stream",
     "text": [
      "Epoch 2/5: Train epoch: 100%|██████████| 938/938 [00:22<00:00, 41.53it/s, Accuracy=0.13, Loss=2.3] \n",
      "Epoch 2/5: Test epoch : 100%|██████████| 157/157 [00:03<00:00, 50.94it/s, Accuracy=0.14, Loss=2.3] \n"
     ]
    },
    {
     "name": "stdout",
     "output_type": "stream",
     "text": [
      "\n"
     ]
    },
    {
     "name": "stderr",
     "output_type": "stream",
     "text": [
      "Epoch 3/5: Train epoch: 100%|██████████| 938/938 [00:21<00:00, 42.67it/s, Accuracy=0.149, Loss=2.3]\n",
      "Epoch 3/5: Test epoch : 100%|██████████| 157/157 [00:03<00:00, 51.42it/s, Accuracy=0.161, Loss=2.3]\n"
     ]
    },
    {
     "name": "stdout",
     "output_type": "stream",
     "text": [
      "\n"
     ]
    },
    {
     "name": "stderr",
     "output_type": "stream",
     "text": [
      "Epoch 4/5: Train epoch: 100%|██████████| 938/938 [00:21<00:00, 42.71it/s, Accuracy=0.168, Loss=2.3]\n",
      "Epoch 4/5: Test epoch : 100%|██████████| 157/157 [00:03<00:00, 51.94it/s, Accuracy=0.179, Loss=2.3]\n"
     ]
    },
    {
     "name": "stdout",
     "output_type": "stream",
     "text": [
      "\n"
     ]
    },
    {
     "name": "stderr",
     "output_type": "stream",
     "text": [
      "Epoch 5/5: Train epoch: 100%|██████████| 938/938 [00:21<00:00, 42.86it/s, Accuracy=0.181, Loss=2.3]\n",
      "Epoch 5/5: Test epoch : 100%|██████████| 157/157 [00:03<00:00, 50.63it/s, Accuracy=0.187, Loss=2.3]\n"
     ]
    },
    {
     "name": "stdout",
     "output_type": "stream",
     "text": [
      "\n",
      "Evaluation on test set...\n"
     ]
    },
    {
     "name": "stderr",
     "output_type": "stream",
     "text": [
      "100%|██████████| 157/157 [00:02<00:00, 57.51it/s, Accuracy=0.187, Loss=2.3]\n"
     ]
    },
    {
     "name": "stdout",
     "output_type": "stream",
     "text": [
      "====================================================\n",
      "\n"
     ]
    },
    {
     "name": "stderr",
     "output_type": "stream",
     "text": [
      "wandb: WARNING Source type is set to 'repo' but some required information is missing from the environment. A job will not be created from this run. See https://docs.wandb.ai/guides/launch/create-job\n"
     ]
    },
    {
     "data": {
      "application/vnd.jupyter.widget-view+json": {
       "model_id": "af56d164c01140dfb8bda3e92c6cf9f7",
       "version_major": 2,
       "version_minor": 0
      },
      "text/plain": [
       "VBox(children=(Label(value='Waiting for wandb.init()...\\r'), FloatProgress(value=0.011112436011090823, max=1.0…"
      ]
     },
     "metadata": {},
     "output_type": "display_data"
    },
    {
     "name": "stdout",
     "output_type": "stream",
     "text": [
      "Training model with batch_size=32, lr=0.001 and SGD optimizer...\n"
     ]
    },
    {
     "name": "stderr",
     "output_type": "stream",
     "text": [
      "Epoch 1/5: Train epoch: 100%|██████████| 1875/1875 [00:29<00:00, 64.22it/s, Accuracy=0.105, Loss=2.3]\n",
      "Epoch 1/5: Test epoch : 100%|██████████| 313/313 [00:04<00:00, 73.72it/s, Accuracy=0.103, Loss=2.3] \n"
     ]
    },
    {
     "name": "stdout",
     "output_type": "stream",
     "text": [
      "\n"
     ]
    },
    {
     "name": "stderr",
     "output_type": "stream",
     "text": [
      "Epoch 2/5: Train epoch: 100%|██████████| 1875/1875 [00:30<00:00, 61.19it/s, Accuracy=0.107, Loss=2.3]\n",
      "Epoch 2/5: Test epoch : 100%|██████████| 313/313 [00:04<00:00, 72.36it/s, Accuracy=0.105, Loss=2.3] \n"
     ]
    },
    {
     "name": "stdout",
     "output_type": "stream",
     "text": [
      "\n"
     ]
    },
    {
     "name": "stderr",
     "output_type": "stream",
     "text": [
      "Epoch 3/5: Train epoch: 100%|██████████| 1875/1875 [00:29<00:00, 62.91it/s, Accuracy=0.11, Loss=2.3] \n",
      "Epoch 3/5: Test epoch : 100%|██████████| 313/313 [00:03<00:00, 80.00it/s, Accuracy=0.111, Loss=2.3] \n"
     ]
    },
    {
     "name": "stdout",
     "output_type": "stream",
     "text": [
      "\n"
     ]
    },
    {
     "name": "stderr",
     "output_type": "stream",
     "text": [
      "Epoch 4/5: Train epoch: 100%|██████████| 1875/1875 [00:30<00:00, 62.25it/s, Accuracy=0.12, Loss=2.3] \n",
      "Epoch 4/5: Test epoch : 100%|██████████| 313/313 [00:03<00:00, 81.62it/s, Accuracy=0.124, Loss=2.3]\n"
     ]
    },
    {
     "name": "stdout",
     "output_type": "stream",
     "text": [
      "\n"
     ]
    },
    {
     "name": "stderr",
     "output_type": "stream",
     "text": [
      "Epoch 5/5: Train epoch: 100%|██████████| 1875/1875 [00:29<00:00, 63.69it/s, Accuracy=0.139, Loss=2.3]\n",
      "Epoch 5/5: Test epoch : 100%|██████████| 313/313 [00:03<00:00, 85.30it/s, Accuracy=0.146, Loss=2.3]\n"
     ]
    },
    {
     "name": "stdout",
     "output_type": "stream",
     "text": [
      "\n",
      "Evaluation on test set...\n"
     ]
    },
    {
     "name": "stderr",
     "output_type": "stream",
     "text": [
      "100%|██████████| 313/313 [00:03<00:00, 97.30it/s, Accuracy=0.146, Loss=2.3] \n"
     ]
    },
    {
     "name": "stdout",
     "output_type": "stream",
     "text": [
      "====================================================\n",
      "\n"
     ]
    },
    {
     "name": "stderr",
     "output_type": "stream",
     "text": [
      "wandb: WARNING Source type is set to 'repo' but some required information is missing from the environment. A job will not be created from this run. See https://docs.wandb.ai/guides/launch/create-job\n"
     ]
    },
    {
     "data": {
      "application/vnd.jupyter.widget-view+json": {
       "model_id": "7f78f9da89ee4677b5a27513c9237a6f",
       "version_major": 2,
       "version_minor": 0
      },
      "text/plain": [
       "VBox(children=(Label(value='Waiting for wandb.init()...\\r'), FloatProgress(value=0.011112779266679557, max=1.0…"
      ]
     },
     "metadata": {},
     "output_type": "display_data"
    },
    {
     "name": "stdout",
     "output_type": "stream",
     "text": [
      "Training model with batch_size=64, lr=0.0001 and SGD optimizer...\n"
     ]
    },
    {
     "name": "stderr",
     "output_type": "stream",
     "text": [
      "Epoch 1/5: Train epoch: 100%|██████████| 938/938 [00:22<00:00, 41.31it/s, Accuracy=0.1, Loss=2.3]   \n",
      "Epoch 1/5: Test epoch : 100%|██████████| 157/157 [00:02<00:00, 53.01it/s, Accuracy=0.1, Loss=2.3]   \n"
     ]
    },
    {
     "name": "stdout",
     "output_type": "stream",
     "text": [
      "\n"
     ]
    },
    {
     "name": "stderr",
     "output_type": "stream",
     "text": [
      "Epoch 2/5: Train epoch: 100%|██████████| 938/938 [00:22<00:00, 42.36it/s, Accuracy=0.101, Loss=2.3] \n",
      "Epoch 2/5: Test epoch : 100%|██████████| 157/157 [00:03<00:00, 48.80it/s, Accuracy=0.101, Loss=2.3]\n"
     ]
    },
    {
     "name": "stdout",
     "output_type": "stream",
     "text": [
      "\n"
     ]
    },
    {
     "name": "stderr",
     "output_type": "stream",
     "text": [
      "Epoch 3/5: Train epoch: 100%|██████████| 938/938 [00:21<00:00, 43.60it/s, Accuracy=0.101, Loss=2.3] \n",
      "Epoch 3/5: Test epoch : 100%|██████████| 157/157 [00:02<00:00, 52.55it/s, Accuracy=0.101, Loss=2.3]\n"
     ]
    },
    {
     "name": "stdout",
     "output_type": "stream",
     "text": [
      "\n"
     ]
    },
    {
     "name": "stderr",
     "output_type": "stream",
     "text": [
      "Epoch 4/5: Train epoch: 100%|██████████| 938/938 [00:21<00:00, 43.06it/s, Accuracy=0.101, Loss=2.3] \n",
      "Epoch 4/5: Test epoch : 100%|██████████| 157/157 [00:02<00:00, 55.81it/s, Accuracy=0.101, Loss=2.3]\n"
     ]
    },
    {
     "name": "stdout",
     "output_type": "stream",
     "text": [
      "\n"
     ]
    },
    {
     "name": "stderr",
     "output_type": "stream",
     "text": [
      "Epoch 5/5: Train epoch: 100%|██████████| 938/938 [00:22<00:00, 42.58it/s, Accuracy=0.101, Loss=2.3]\n",
      "Epoch 5/5: Test epoch : 100%|██████████| 157/157 [00:03<00:00, 51.43it/s, Accuracy=0.101, Loss=2.3]\n"
     ]
    },
    {
     "name": "stdout",
     "output_type": "stream",
     "text": [
      "\n",
      "Evaluation on test set...\n"
     ]
    },
    {
     "name": "stderr",
     "output_type": "stream",
     "text": [
      "100%|██████████| 157/157 [00:02<00:00, 58.91it/s, Accuracy=0.101, Loss=2.3]\n"
     ]
    },
    {
     "name": "stdout",
     "output_type": "stream",
     "text": [
      "====================================================\n",
      "\n"
     ]
    },
    {
     "name": "stderr",
     "output_type": "stream",
     "text": [
      "wandb: WARNING Source type is set to 'repo' but some required information is missing from the environment. A job will not be created from this run. See https://docs.wandb.ai/guides/launch/create-job\n"
     ]
    }
   ],
   "source": [
    "configs = [\n",
    "    {'batch_size': 64, 'lr': 0.001,  'optimizer': 'Adam'},\n",
    "    {'batch_size': 32, 'lr': 0.001,  'optimizer': 'Adam'},\n",
    "    {'batch_size': 64, 'lr': 0.0001, 'optimizer': 'Adam'},\n",
    "    {'batch_size': 64, 'lr': 0.001,  'optimizer': 'SGD'},\n",
    "    {'batch_size': 32, 'lr': 0.001,  'optimizer': 'SGD'},\n",
    "    {'batch_size': 64, 'lr': 0.0001, 'optimizer': 'SGD'}\n",
    "]\n",
    "\n",
    "max_accuracy = 0\n",
    "accuracies   = []\n",
    "best_config  = None\n",
    "\n",
    "os.environ[\"WANDB_SILENT\"] = \"true\"\n",
    "wandb.login()\n",
    "\n",
    "for config in configs:\n",
    "    wandb.init(\n",
    "        project = 'MNIST-Classification',\n",
    "        config  = config,\n",
    "        notes   = 'LeNet-Tuning'\n",
    "    )\n",
    "\n",
    "    data_loaders = MNISTDataLoaders(batch_size=config['batch_size'])\n",
    "    train_loader = data_loaders.train_loader\n",
    "    test_loader  = data_loaders.test_loader\n",
    "\n",
    "    model = LeNet()\n",
    "\n",
    "    if config['optimizer'] == 'Adam':\n",
    "        optimizer = optim.Adam(model.parameters(), lr=config['lr'])\n",
    "    else:\n",
    "        optimizer = optim.SGD(model.parameters(), lr=config['lr'])\n",
    "\n",
    "    trainer = Trainer(model, train_loader, test_loader, optimizer, logging=True)\n",
    "\n",
    "    print(f\"Training model with batch_size={config['batch_size']}, lr={config['lr']} and {config['optimizer']} optimizer...\")\n",
    "    trainer.train_epoch(epochs=5)\n",
    "\n",
    "    print(\"Evaluation on test set...\")\n",
    "    accuracy, _ = trainer.test_epoch()\n",
    "\n",
    "    accuracies.append(accuracy)\n",
    "\n",
    "    if accuracy > max_accuracy:\n",
    "        max_accuracy = accuracy\n",
    "        best_config  = config\n",
    "\n",
    "    print(\"====================================================\")\n",
    "    print()\n",
    "\n",
    "    wandb.finish()"
   ]
  },
  {
   "cell_type": "code",
   "execution_count": 16,
   "metadata": {},
   "outputs": [
    {
     "data": {
      "image/png": "[encoded data removed]",
      "text/plain": [
       "<Figure size 640x480 with 1 Axes>"
      ]
     },
     "metadata": {},
     "output_type": "display_data"
    }
   ],
   "source": [
    "plt.plot([f'{config[\"batch_size\"]}, {config[\"lr\"]}, {config[\"optimizer\"]}' for config in configs], accuracies, marker='o')\n",
    "plt.xticks([f'{config[\"batch_size\"]}, {config[\"lr\"]}, {config[\"optimizer\"]}' for config in configs], rotation=45)\n",
    "plt.xlabel('(Batch size, Learning rate, Optimizer)')\n",
    "plt.ylabel('Test accuracy')\n",
    "plt.title('Hyperparameter tuning on batch size, learning rate and optimizer')\n",
    "plt.show()"
   ]
  },
  {
   "cell_type": "markdown",
   "metadata": {},
   "source": [
    "- As we can see the Adam optimizer greatly outperforms the SGD optimiser in terms of accuracy\n",
    "- The next thing we can notice is the impact of learning rate: A lesser learning rate of 1e-4 converges slower and has worse performance as compared to a higher learning rate of 1e-3\n",
    "- The batch size does not have a significant impact on the performance of the model\n",
    "- Hence, we can deduce that the optimizer and the learning rate are the most important hyperparameters to tune\n",
    "\n",
    "- The best configuration for the LeNet model is:\n",
    "    - Optimizer = Adam\n",
    "    - Learning rate = 1e-3\n",
    "    - Batch size = 32"
   ]
  },
  {
   "cell_type": "markdown",
   "metadata": {},
   "source": [
    "- #### [Wandb Report](https://api.wandb.ai/links/gnanaprakash2004/sufbk6r3)"
   ]
  },
  {
   "cell_type": "markdown",
   "metadata": {},
   "source": [
    "<hr>"
   ]
  },
  {
   "cell_type": "markdown",
   "metadata": {},
   "source": [
    "## Doubling number of convolutional layers in LeNet"
   ]
  },
  {
   "cell_type": "code",
   "execution_count": null,
   "metadata": {},
   "outputs": [
    {
     "name": "stderr",
     "output_type": "stream",
     "text": [
      "Epoch 1/5: Train epoch: 100%|██████████| 938/938 [00:31<00:00, 30.01it/s, Accuracy=0.799, Loss=1.67]\n",
      "Epoch 1/5: Test epoch : 100%|██████████| 157/157 [00:03<00:00, 42.09it/s, Accuracy=0.954, Loss=1.51]\n"
     ]
    },
    {
     "name": "stdout",
     "output_type": "stream",
     "text": [
      "\n"
     ]
    },
    {
     "name": "stderr",
     "output_type": "stream",
     "text": [
      "Epoch 2/5: Train epoch: 100%|██████████| 938/938 [00:30<00:00, 30.70it/s, Accuracy=0.961, Loss=1.5]\n",
      "Epoch 2/5: Test epoch : 100%|██████████| 157/157 [00:03<00:00, 45.03it/s, Accuracy=0.968, Loss=1.49]\n"
     ]
    },
    {
     "name": "stdout",
     "output_type": "stream",
     "text": [
      "\n"
     ]
    },
    {
     "name": "stderr",
     "output_type": "stream",
     "text": [
      "Epoch 3/5: Train epoch: 100%|██████████| 938/938 [00:28<00:00, 32.51it/s, Accuracy=0.972, Loss=1.49]\n",
      "Epoch 3/5: Test epoch : 100%|██████████| 157/157 [00:03<00:00, 42.13it/s, Accuracy=0.955, Loss=1.51]\n"
     ]
    },
    {
     "name": "stdout",
     "output_type": "stream",
     "text": [
      "\n"
     ]
    },
    {
     "name": "stderr",
     "output_type": "stream",
     "text": [
      "Epoch 4/5: Train epoch: 100%|██████████| 938/938 [00:31<00:00, 29.71it/s, Accuracy=0.976, Loss=1.49]\n",
      "Epoch 4/5: Test epoch : 100%|██████████| 157/157 [00:03<00:00, 46.51it/s, Accuracy=0.981, Loss=1.48]\n"
     ]
    },
    {
     "name": "stdout",
     "output_type": "stream",
     "text": [
      "\n"
     ]
    },
    {
     "name": "stderr",
     "output_type": "stream",
     "text": [
      "Epoch 5/5: Train epoch: 100%|██████████| 938/938 [00:30<00:00, 31.08it/s, Accuracy=0.978, Loss=1.48]\n",
      "Epoch 5/5: Test epoch : 100%|██████████| 157/157 [00:03<00:00, 44.98it/s, Accuracy=0.976, Loss=1.49]"
     ]
    },
    {
     "name": "stdout",
     "output_type": "stream",
     "text": [
      "\n"
     ]
    },
    {
     "name": "stderr",
     "output_type": "stream",
     "text": [
      "\n"
     ]
    }
   ],
   "source": [
    "class DoubleLeNet(nn.Module):\n",
    "    def __init__(self):\n",
    "        super(DoubleLeNet, self).__init__()\n",
    "\n",
    "        self.conv1 = nn.Conv2d(in_channels=1,  out_channels=6,  kernel_size=5, padding=2)\n",
    "        self.conv2 = nn.Conv2d(in_channels=6,  out_channels=16, kernel_size=5, padding=2)\n",
    "        self.conv3 = nn.Conv2d(in_channels=16, out_channels=32, kernel_size=3, padding=2)\n",
    "        self.conv4 = nn.Conv2d(in_channels=32, out_channels=64, kernel_size=3, padding=2)\n",
    "\n",
    "        self.fc1   = nn.Linear(in_features=64*3*3, out_features=120)\n",
    "        self.fc2   = nn.Linear(in_features=120,    out_features=84)\n",
    "        self.fc3   = nn.Linear(in_features=84,     out_features=10)\n",
    "\n",
    "        self.pool  = nn.MaxPool2d(kernel_size=2, stride=2)\n",
    "\n",
    "        self.relu    = nn.ReLU()\n",
    "        self.softmax = nn.Softmax(dim=1)\n",
    "\n",
    "    def forward(self, x):\n",
    "        # Pytorch has convention (batch_size, channels, height, width)\n",
    "        x = x.view(-1, 1, 28, 28)\n",
    "\n",
    "        x = self.conv1(x) # x -> 28x28x6\n",
    "        x = self.pool(x)  # x -> 14x14x6\n",
    "        x = self.relu(x)\n",
    "\n",
    "        x = self.conv2(x) # x -> 14x14x16\n",
    "        x = self.pool(x)  # x -> 7x7x16\n",
    "        x = self.relu(x)\n",
    "\n",
    "        x = self.conv3(x) # x -> 9x9x32\n",
    "        x = self.pool(x)  # x -> 4x4x32\n",
    "\n",
    "        x = self.conv4(x) # x -> 6x6x64\n",
    "        x = self.pool(x)  # x -> 3x3x64\n",
    "        x = self.relu(x)\n",
    "\n",
    "        x = x.view(-1, 64*3*3) # x -> 576 (Flattened to pass through fully connected layers)\n",
    "\n",
    "        x = self.fc1(x) # x -> 120\n",
    "        x = self.relu(x)\n",
    "\n",
    "        x = self.fc2(x) # x -> 84\n",
    "        x = self.relu(x)\n",
    "\n",
    "        x = self.fc3(x) # x -> 10\n",
    "        x = self.softmax(x) # For probabilities\n",
    "\n",
    "        return x\n",
    "    \n",
    "double_data_loaders = MNISTDataLoaders()\n",
    "double_train_loader = double_data_loaders.train_loader\n",
    "double_test_loader  = double_data_loaders.test_loader\n",
    "\n",
    "double_model        = DoubleLeNet()\n",
    "\n",
    "double_optimizer    = optim.Adam(double_model.parameters(), lr=0.001)\n",
    "\n",
    "double_trainer      = Trainer(double_model, double_train_loader, double_test_loader, double_optimizer)\n",
    "\n",
    "double_trainer.train_epoch(epochs=5)"
   ]
  },
  {
   "cell_type": "markdown",
   "metadata": {},
   "source": [
    "- ### As we can see from the above run, the performance has not changed much inspite of doubling the number of convolutional layers\n",
    "- ### Some changes to the architecture had to be made - in terms of kernel size and padding to keep the feature maps large enough by the time they reach the last layer\n",
    "\n",
    "- ### This can be explained by the fact that the relations present in the data can be learnt by the normal LeNet model and more complexity does not help in providing additional information\n",
    "- ### We can also see that the performance is slightly lesser as compared to the normal LeBNet model and this might be an indication of possible overfitting"
   ]
  },
  {
   "cell_type": "markdown",
   "metadata": {},
   "source": [
    "<hr>"
   ]
  },
  {
   "cell_type": "markdown",
   "metadata": {},
   "source": [
    "## Accuracy v/s Number of training samples"
   ]
  },
  {
   "cell_type": "code",
   "execution_count": null,
   "metadata": {},
   "outputs": [
    {
     "name": "stdout",
     "output_type": "stream",
     "text": [
      "Training with 600 samples...\n"
     ]
    },
    {
     "name": "stderr",
     "output_type": "stream",
     "text": [
      "Epoch 1/5: Train epoch: 100%|██████████| 10/10 [00:00<00:00, 50.54it/s, Accuracy=0.0964, Loss=2.3]\n",
      "Epoch 1/5: Test epoch : 100%|██████████| 157/157 [00:02<00:00, 57.65it/s, Accuracy=0.153, Loss=2.29]\n"
     ]
    },
    {
     "name": "stdout",
     "output_type": "stream",
     "text": [
      "\n"
     ]
    },
    {
     "name": "stderr",
     "output_type": "stream",
     "text": [
      "Epoch 2/5: Train epoch: 100%|██████████| 10/10 [00:00<00:00, 51.13it/s, Accuracy=0.199, Loss=2.26]\n",
      "Epoch 2/5: Test epoch : 100%|██████████| 157/157 [00:02<00:00, 60.34it/s, Accuracy=0.327, Loss=2.22]\n"
     ]
    },
    {
     "name": "stdout",
     "output_type": "stream",
     "text": [
      "\n"
     ]
    },
    {
     "name": "stderr",
     "output_type": "stream",
     "text": [
      "Epoch 3/5: Train epoch: 100%|██████████| 10/10 [00:00<00:00, 46.74it/s, Accuracy=0.356, Loss=2.18]\n",
      "Epoch 3/5: Test epoch : 100%|██████████| 157/157 [00:02<00:00, 57.52it/s, Accuracy=0.382, Loss=2.1] \n"
     ]
    },
    {
     "name": "stdout",
     "output_type": "stream",
     "text": [
      "\n"
     ]
    },
    {
     "name": "stderr",
     "output_type": "stream",
     "text": [
      "Epoch 4/5: Train epoch: 100%|██████████| 10/10 [00:00<00:00, 46.10it/s, Accuracy=0.5, Loss=2.02] \n",
      "Epoch 4/5: Test epoch : 100%|██████████| 157/157 [00:02<00:00, 58.66it/s, Accuracy=0.614, Loss=1.94]\n"
     ]
    },
    {
     "name": "stdout",
     "output_type": "stream",
     "text": [
      "\n"
     ]
    },
    {
     "name": "stderr",
     "output_type": "stream",
     "text": [
      "Epoch 5/5: Train epoch: 100%|██████████| 10/10 [00:00<00:00, 41.16it/s, Accuracy=0.679, Loss=1.88]\n",
      "Epoch 5/5: Test epoch : 100%|██████████| 157/157 [00:02<00:00, 59.08it/s, Accuracy=0.724, Loss=1.81]\n"
     ]
    },
    {
     "name": "stdout",
     "output_type": "stream",
     "text": [
      "\n",
      "Evaluating the model on test set...\n"
     ]
    },
    {
     "name": "stderr",
     "output_type": "stream",
     "text": [
      "100%|██████████| 157/157 [00:02<00:00, 64.15it/s, Accuracy=0.724, Loss=1.81]\n"
     ]
    },
    {
     "name": "stdout",
     "output_type": "stream",
     "text": [
      "====================================================\n",
      "\n",
      "Training with 1800 samples...\n"
     ]
    },
    {
     "name": "stderr",
     "output_type": "stream",
     "text": [
      "Epoch 1/5: Train epoch: 100%|██████████| 29/29 [00:00<00:00, 48.15it/s, Accuracy=0.283, Loss=2.25]\n",
      "Epoch 1/5: Test epoch : 100%|██████████| 157/157 [00:02<00:00, 61.49it/s, Accuracy=0.411, Loss=2.09]\n"
     ]
    },
    {
     "name": "stdout",
     "output_type": "stream",
     "text": [
      "\n"
     ]
    },
    {
     "name": "stderr",
     "output_type": "stream",
     "text": [
      "Epoch 2/5: Train epoch: 100%|██████████| 29/29 [00:00<00:00, 48.03it/s, Accuracy=0.607, Loss=1.9] \n",
      "Epoch 2/5: Test epoch : 100%|██████████| 157/157 [00:02<00:00, 62.11it/s, Accuracy=0.769, Loss=1.72]\n"
     ]
    },
    {
     "name": "stdout",
     "output_type": "stream",
     "text": [
      "\n"
     ]
    },
    {
     "name": "stderr",
     "output_type": "stream",
     "text": [
      "Epoch 3/5: Train epoch: 100%|██████████| 29/29 [00:00<00:00, 47.34it/s, Accuracy=0.812, Loss=1.68]\n",
      "Epoch 3/5: Test epoch : 100%|██████████| 157/157 [00:02<00:00, 58.26it/s, Accuracy=0.855, Loss=1.62]\n"
     ]
    },
    {
     "name": "stdout",
     "output_type": "stream",
     "text": [
      "\n"
     ]
    },
    {
     "name": "stderr",
     "output_type": "stream",
     "text": [
      "Epoch 4/5: Train epoch: 100%|██████████| 29/29 [00:00<00:00, 47.53it/s, Accuracy=0.85, Loss=1.62] \n",
      "Epoch 4/5: Test epoch : 100%|██████████| 157/157 [00:02<00:00, 61.66it/s, Accuracy=0.894, Loss=1.58]\n"
     ]
    },
    {
     "name": "stdout",
     "output_type": "stream",
     "text": [
      "\n"
     ]
    },
    {
     "name": "stderr",
     "output_type": "stream",
     "text": [
      "Epoch 5/5: Train epoch: 100%|██████████| 29/29 [00:00<00:00, 46.05it/s, Accuracy=0.904, Loss=1.57]\n",
      "Epoch 5/5: Test epoch : 100%|██████████| 157/157 [00:02<00:00, 58.79it/s, Accuracy=0.905, Loss=1.57]\n"
     ]
    },
    {
     "name": "stdout",
     "output_type": "stream",
     "text": [
      "\n",
      "Evaluating the model on test set...\n"
     ]
    },
    {
     "name": "stderr",
     "output_type": "stream",
     "text": [
      "100%|██████████| 157/157 [00:02<00:00, 62.85it/s, Accuracy=0.905, Loss=1.57]\n"
     ]
    },
    {
     "name": "stdout",
     "output_type": "stream",
     "text": [
      "====================================================\n",
      "\n",
      "Training with 6000 samples...\n"
     ]
    },
    {
     "name": "stderr",
     "output_type": "stream",
     "text": [
      "Epoch 1/5: Train epoch: 100%|██████████| 94/94 [00:02<00:00, 43.75it/s, Accuracy=0.553, Loss=1.93]\n",
      "Epoch 1/5: Test epoch : 100%|██████████| 157/157 [00:02<00:00, 55.91it/s, Accuracy=0.788, Loss=1.68]\n"
     ]
    },
    {
     "name": "stdout",
     "output_type": "stream",
     "text": [
      "\n"
     ]
    },
    {
     "name": "stderr",
     "output_type": "stream",
     "text": [
      "Epoch 2/5: Train epoch: 100%|██████████| 94/94 [00:01<00:00, 47.18it/s, Accuracy=0.811, Loss=1.66]\n",
      "Epoch 2/5: Test epoch : 100%|██████████| 157/157 [00:02<00:00, 59.56it/s, Accuracy=0.83, Loss=1.63] \n"
     ]
    },
    {
     "name": "stdout",
     "output_type": "stream",
     "text": [
      "\n"
     ]
    },
    {
     "name": "stderr",
     "output_type": "stream",
     "text": [
      "Epoch 3/5: Train epoch: 100%|██████████| 94/94 [00:02<00:00, 45.63it/s, Accuracy=0.84, Loss=1.63] \n",
      "Epoch 3/5: Test epoch : 100%|██████████| 157/157 [00:02<00:00, 57.27it/s, Accuracy=0.852, Loss=1.61]\n"
     ]
    },
    {
     "name": "stdout",
     "output_type": "stream",
     "text": [
      "\n"
     ]
    },
    {
     "name": "stderr",
     "output_type": "stream",
     "text": [
      "Epoch 4/5: Train epoch: 100%|██████████| 94/94 [00:02<00:00, 44.94it/s, Accuracy=0.855, Loss=1.61]\n",
      "Epoch 4/5: Test epoch : 100%|██████████| 157/157 [00:02<00:00, 59.91it/s, Accuracy=0.844, Loss=1.62]\n"
     ]
    },
    {
     "name": "stdout",
     "output_type": "stream",
     "text": [
      "\n"
     ]
    },
    {
     "name": "stderr",
     "output_type": "stream",
     "text": [
      "Epoch 5/5: Train epoch: 100%|██████████| 94/94 [00:02<00:00, 46.73it/s, Accuracy=0.862, Loss=1.6] \n",
      "Epoch 5/5: Test epoch : 100%|██████████| 157/157 [00:02<00:00, 59.71it/s, Accuracy=0.867, Loss=1.59]\n"
     ]
    },
    {
     "name": "stdout",
     "output_type": "stream",
     "text": [
      "\n",
      "Evaluating the model on test set...\n"
     ]
    },
    {
     "name": "stderr",
     "output_type": "stream",
     "text": [
      "100%|██████████| 157/157 [00:02<00:00, 63.08it/s, Accuracy=0.867, Loss=1.59]\n"
     ]
    },
    {
     "name": "stdout",
     "output_type": "stream",
     "text": [
      "====================================================\n",
      "\n",
      "Training with 18000 samples...\n"
     ]
    },
    {
     "name": "stderr",
     "output_type": "stream",
     "text": [
      "Epoch 1/5: Train epoch: 100%|██████████| 282/282 [00:06<00:00, 45.10it/s, Accuracy=0.741, Loss=1.74]\n",
      "Epoch 1/5: Test epoch : 100%|██████████| 157/157 [00:02<00:00, 58.60it/s, Accuracy=0.853, Loss=1.61]\n"
     ]
    },
    {
     "name": "stdout",
     "output_type": "stream",
     "text": [
      "\n"
     ]
    },
    {
     "name": "stderr",
     "output_type": "stream",
     "text": [
      "Epoch 2/5: Train epoch: 100%|██████████| 282/282 [00:05<00:00, 48.46it/s, Accuracy=0.92, Loss=1.54] \n",
      "Epoch 2/5: Test epoch : 100%|██████████| 157/157 [00:02<00:00, 60.28it/s, Accuracy=0.958, Loss=1.51]\n"
     ]
    },
    {
     "name": "stdout",
     "output_type": "stream",
     "text": [
      "\n"
     ]
    },
    {
     "name": "stderr",
     "output_type": "stream",
     "text": [
      "Epoch 3/5: Train epoch: 100%|██████████| 282/282 [00:06<00:00, 42.59it/s, Accuracy=0.958, Loss=1.51]\n",
      "Epoch 3/5: Test epoch : 100%|██████████| 157/157 [00:02<00:00, 56.74it/s, Accuracy=0.962, Loss=1.5] \n"
     ]
    },
    {
     "name": "stdout",
     "output_type": "stream",
     "text": [
      "\n"
     ]
    },
    {
     "name": "stderr",
     "output_type": "stream",
     "text": [
      "Epoch 4/5: Train epoch: 100%|██████████| 282/282 [00:06<00:00, 44.18it/s, Accuracy=0.964, Loss=1.5]\n",
      "Epoch 4/5: Test epoch : 100%|██████████| 157/157 [00:02<00:00, 54.82it/s, Accuracy=0.971, Loss=1.49]\n"
     ]
    },
    {
     "name": "stdout",
     "output_type": "stream",
     "text": [
      "\n"
     ]
    },
    {
     "name": "stderr",
     "output_type": "stream",
     "text": [
      "Epoch 5/5: Train epoch: 100%|██████████| 282/282 [00:06<00:00, 42.63it/s, Accuracy=0.971, Loss=1.49]\n",
      "Epoch 5/5: Test epoch : 100%|██████████| 157/157 [00:02<00:00, 54.82it/s, Accuracy=0.974, Loss=1.49]\n"
     ]
    },
    {
     "name": "stdout",
     "output_type": "stream",
     "text": [
      "\n",
      "Evaluating the model on test set...\n"
     ]
    },
    {
     "name": "stderr",
     "output_type": "stream",
     "text": [
      "100%|██████████| 157/157 [00:02<00:00, 62.22it/s, Accuracy=0.974, Loss=1.49]\n"
     ]
    },
    {
     "name": "stdout",
     "output_type": "stream",
     "text": [
      "====================================================\n",
      "\n",
      "Training with 60000 samples...\n"
     ]
    },
    {
     "name": "stderr",
     "output_type": "stream",
     "text": [
      "Epoch 1/5: Train epoch: 100%|██████████| 938/938 [00:20<00:00, 45.39it/s, Accuracy=0.892, Loss=1.57]\n",
      "Epoch 1/5: Test epoch : 100%|██████████| 157/157 [00:02<00:00, 60.93it/s, Accuracy=0.958, Loss=1.51]\n"
     ]
    },
    {
     "name": "stdout",
     "output_type": "stream",
     "text": [
      "\n"
     ]
    },
    {
     "name": "stderr",
     "output_type": "stream",
     "text": [
      "Epoch 2/5: Train epoch: 100%|██████████| 938/938 [00:20<00:00, 46.07it/s, Accuracy=0.967, Loss=1.5]\n",
      "Epoch 2/5: Test epoch : 100%|██████████| 157/157 [00:02<00:00, 58.40it/s, Accuracy=0.973, Loss=1.49]\n"
     ]
    },
    {
     "name": "stdout",
     "output_type": "stream",
     "text": [
      "\n"
     ]
    },
    {
     "name": "stderr",
     "output_type": "stream",
     "text": [
      "Epoch 3/5: Train epoch: 100%|██████████| 938/938 [00:20<00:00, 46.50it/s, Accuracy=0.975, Loss=1.49]\n",
      "Epoch 3/5: Test epoch : 100%|██████████| 157/157 [00:02<00:00, 63.95it/s, Accuracy=0.968, Loss=1.49]\n"
     ]
    },
    {
     "name": "stdout",
     "output_type": "stream",
     "text": [
      "\n"
     ]
    },
    {
     "name": "stderr",
     "output_type": "stream",
     "text": [
      "Epoch 4/5: Train epoch: 100%|██████████| 938/938 [00:19<00:00, 49.09it/s, Accuracy=0.979, Loss=1.48]\n",
      "Epoch 4/5: Test epoch : 100%|██████████| 157/157 [00:02<00:00, 62.58it/s, Accuracy=0.983, Loss=1.48]\n"
     ]
    },
    {
     "name": "stdout",
     "output_type": "stream",
     "text": [
      "\n"
     ]
    },
    {
     "name": "stderr",
     "output_type": "stream",
     "text": [
      "Epoch 5/5: Train epoch: 100%|██████████| 938/938 [00:19<00:00, 47.16it/s, Accuracy=0.981, Loss=1.48]\n",
      "Epoch 5/5: Test epoch : 100%|██████████| 157/157 [00:02<00:00, 60.33it/s, Accuracy=0.982, Loss=1.48]\n"
     ]
    },
    {
     "name": "stdout",
     "output_type": "stream",
     "text": [
      "\n",
      "Evaluating the model on test set...\n"
     ]
    },
    {
     "name": "stderr",
     "output_type": "stream",
     "text": [
      "100%|██████████| 157/157 [00:02<00:00, 64.59it/s, Accuracy=0.982, Loss=1.48]"
     ]
    },
    {
     "name": "stdout",
     "output_type": "stream",
     "text": [
      "====================================================\n",
      "\n"
     ]
    },
    {
     "name": "stderr",
     "output_type": "stream",
     "text": [
      "\n"
     ]
    }
   ],
   "source": [
    "train_dataset_sizes = [600, 1800, 6000, 18000, 60000]\n",
    "accuracies          = []\n",
    "\n",
    "for train_dataset_size in train_dataset_sizes:\n",
    "    print(f\"Training with {train_dataset_size} samples...\")\n",
    "\n",
    "    batch_size   = 32 if train_dataset_size < 10000 else 64\n",
    "    data_loaders = MNISTDataLoaders(batch_size=batch_size, train_subset_size=train_dataset_size)\n",
    "    train_loader = data_loaders.train_loader\n",
    "    test_loader  = data_loaders.test_loader\n",
    "\n",
    "    model        = LeNet()\n",
    "\n",
    "    optimizer    = optim.Adam(model.parameters(), lr=0.001)\n",
    "\n",
    "    trainer      = Trainer(model, train_loader, test_loader, optimizer)\n",
    "\n",
    "    trainer.train_epoch(epochs=5)\n",
    "\n",
    "    print(\"Evaluating the model on test set...\")\n",
    "    test_acc, _ = trainer.test_epoch()\n",
    "    accuracies.append(test_acc)\n",
    "\n",
    "    print(\"====================================================\")\n",
    "    print()"
   ]
  },
  {
   "cell_type": "code",
   "execution_count": null,
   "metadata": {},
   "outputs": [
    {
     "data": {
      "image/png": "[encoded data removed]",
      "text/plain": [
       "<Figure size 640x480 with 1 Axes>"
      ]
     },
     "metadata": {},
     "output_type": "display_data"
    }
   ],
   "source": [
    "plt.plot([str(size) for size in train_dataset_sizes], accuracies, marker='o')\n",
    "plt.xlabel('Number of samples in training set')\n",
    "plt.ylabel('Test accuracy')\n",
    "plt.title('Accuracy vs. Size of training data')\n",
    "plt.show()"
   ]
  },
  {
   "cell_type": "markdown",
   "metadata": {},
   "source": [
    "- ### We can see that intially, the accuracy is fairly low in comparision to the models trained with more data\n",
    "- ### This is indicative of the necessity of more data for CNNs\n",
    "- ### But notice that the accuracy jumps by a huge amount with just a small increase in the amount of data\n",
    "  - ### This can be explained by the fact that due to the uniform distribution of data across all labels, the increase in data is enough for the CNN to capture all the required patterns in the data\n",
    "- ### An interesting observation is that the model does not benefit much from adding more data after a point - Consider the jump from 18K images to 60K images\n",
    "  - ### Similar performance for one-third of the data"
   ]
  },
  {
   "cell_type": "markdown",
   "metadata": {},
   "source": [
    "<hr>"
   ]
  },
  {
   "cell_type": "markdown",
   "metadata": {},
   "source": [
    "## TransformerEncoder on MNIST"
   ]
  },
  {
   "cell_type": "code",
   "execution_count": null,
   "metadata": {},
   "outputs": [],
   "source": [
    "class VITTransformerEncoder(nn.Module):\n",
    "    def __init__(self, patch_size=7, embed_dim=64, num_layers=2, num_heads=4, num_classes=10):\n",
    "        super(VITTransformerEncoder, self).__init__()\n",
    "        self.patch_size = patch_size\n",
    "        self.embed_dim  = embed_dim\n",
    "\n",
    "        self.patch_embedding = nn.Conv2d(in_channels=1, out_channels=embed_dim, kernel_size=patch_size, stride=patch_size)\n",
    "        self.cls_token       = nn.Parameter(torch.randn(1, 1, embed_dim)) \n",
    "        self.pos_embedding   = nn.Parameter(torch.randn(1, (28 // patch_size) ** 2 + 1, embed_dim))\n",
    "\n",
    "        self.transformer     = nn.TransformerEncoder(encoder_layer=nn.TransformerEncoderLayer(d_model=embed_dim, nhead=num_heads, batch_first=True), num_layers=num_layers)\n",
    "        self.cls_head        = nn.Linear(embed_dim, num_classes)\n",
    "        self.softmax         = nn.Softmax(dim=1)\n",
    "\n",
    "    def forward(self, x):\n",
    "        b, _, _, _ = x.shape\n",
    "\n",
    "        # Linearize the embeddings by flattening along last dimension as Torch has (b x c x h x w) format\n",
    "        # Then transpose to b x hw x c format\n",
    "        x = self.patch_embedding(x).flatten(2).transpose(1, 2)\n",
    "\n",
    "        # Add the class token at the beginning of the embeddings of each patch\n",
    "        cls_token = self.cls_token.repeat(b, 1, 1)\n",
    "        x         = torch.cat([cls_token, x], dim=1)\n",
    "\n",
    "        # Add positional embeddings\n",
    "        x += self.pos_embedding\n",
    "        x  = self.transformer(x)\n",
    "\n",
    "        # The class embeddings are present at the beginning of the embeddings of the patches - (b x n x (1 + c))\n",
    "        cls_encoding = x[:, 0, :]\n",
    "        cls_encoding = self.cls_head(cls_encoding)\n",
    "        cls_encoding = self.softmax(cls_encoding)\n",
    "        return cls_encoding"
   ]
  },
  {
   "cell_type": "code",
   "execution_count": null,
   "metadata": {},
   "outputs": [
    {
     "name": "stdout",
     "output_type": "stream",
     "text": [
      "Training with 6000 samples...\n",
      "\n",
      "Training LeNet...\n"
     ]
    },
    {
     "name": "stderr",
     "output_type": "stream",
     "text": [
      "Epoch 1/5: Train epoch: 100%|██████████| 188/188 [00:02<00:00, 69.50it/s, Accuracy=0.63, Loss=1.86] \n",
      "Epoch 1/5: Test epoch : 100%|██████████| 313/313 [00:03<00:00, 98.95it/s, Accuracy=0.824, Loss=1.65] \n"
     ]
    },
    {
     "name": "stdout",
     "output_type": "stream",
     "text": [
      "\n"
     ]
    },
    {
     "name": "stderr",
     "output_type": "stream",
     "text": [
      "Epoch 2/5: Train epoch: 100%|██████████| 188/188 [00:02<00:00, 73.64it/s, Accuracy=0.835, Loss=1.63]\n",
      "Epoch 2/5: Test epoch : 100%|██████████| 313/313 [00:03<00:00, 97.99it/s, Accuracy=0.849, Loss=1.62] \n"
     ]
    },
    {
     "name": "stdout",
     "output_type": "stream",
     "text": [
      "\n"
     ]
    },
    {
     "name": "stderr",
     "output_type": "stream",
     "text": [
      "Epoch 3/5: Train epoch: 100%|██████████| 188/188 [00:02<00:00, 72.12it/s, Accuracy=0.881, Loss=1.58]\n",
      "Epoch 3/5: Test epoch : 100%|██████████| 313/313 [00:03<00:00, 96.26it/s, Accuracy=0.922, Loss=1.54] \n"
     ]
    },
    {
     "name": "stdout",
     "output_type": "stream",
     "text": [
      "\n"
     ]
    },
    {
     "name": "stderr",
     "output_type": "stream",
     "text": [
      "Epoch 4/5: Train epoch: 100%|██████████| 188/188 [00:02<00:00, 74.30it/s, Accuracy=0.946, Loss=1.52]\n",
      "Epoch 4/5: Test epoch : 100%|██████████| 313/313 [00:03<00:00, 97.07it/s, Accuracy=0.949, Loss=1.52] \n"
     ]
    },
    {
     "name": "stdout",
     "output_type": "stream",
     "text": [
      "\n"
     ]
    },
    {
     "name": "stderr",
     "output_type": "stream",
     "text": [
      "Epoch 5/5: Train epoch: 100%|██████████| 188/188 [00:02<00:00, 72.51it/s, Accuracy=0.953, Loss=1.51]\n",
      "Epoch 5/5: Test epoch : 100%|██████████| 313/313 [00:03<00:00, 99.01it/s, Accuracy=0.961, Loss=1.5]  \n"
     ]
    },
    {
     "name": "stdout",
     "output_type": "stream",
     "text": [
      "\n",
      "Evaluating the model on test set...\n"
     ]
    },
    {
     "name": "stderr",
     "output_type": "stream",
     "text": [
      "100%|██████████| 313/313 [00:02<00:00, 114.28it/s, Accuracy=0.961, Loss=1.5] \n"
     ]
    },
    {
     "name": "stdout",
     "output_type": "stream",
     "text": [
      "\n",
      "Training VIT...\n"
     ]
    },
    {
     "name": "stderr",
     "output_type": "stream",
     "text": [
      "Epoch 1/5: Train epoch: 100%|██████████| 188/188 [00:11<00:00, 15.94it/s, Accuracy=0.493, Loss=1.98]\n",
      "Epoch 1/5: Test epoch : 100%|██████████| 313/313 [00:06<00:00, 52.14it/s, Accuracy=0.768, Loss=1.71]\n"
     ]
    },
    {
     "name": "stdout",
     "output_type": "stream",
     "text": [
      "\n"
     ]
    },
    {
     "name": "stderr",
     "output_type": "stream",
     "text": [
      "Epoch 2/5: Train epoch: 100%|██████████| 188/188 [00:12<00:00, 15.22it/s, Accuracy=0.754, Loss=1.72]\n",
      "Epoch 2/5: Test epoch : 100%|██████████| 313/313 [00:05<00:00, 53.90it/s, Accuracy=0.777, Loss=1.69]\n"
     ]
    },
    {
     "name": "stdout",
     "output_type": "stream",
     "text": [
      "\n"
     ]
    },
    {
     "name": "stderr",
     "output_type": "stream",
     "text": [
      "Epoch 3/5: Train epoch: 100%|██████████| 188/188 [00:11<00:00, 15.70it/s, Accuracy=0.807, Loss=1.66]\n",
      "Epoch 3/5: Test epoch : 100%|██████████| 313/313 [00:05<00:00, 54.06it/s, Accuracy=0.863, Loss=1.6] \n"
     ]
    },
    {
     "name": "stdout",
     "output_type": "stream",
     "text": [
      "\n"
     ]
    },
    {
     "name": "stderr",
     "output_type": "stream",
     "text": [
      "Epoch 4/5: Train epoch: 100%|██████████| 188/188 [00:12<00:00, 15.61it/s, Accuracy=0.831, Loss=1.63]\n",
      "Epoch 4/5: Test epoch : 100%|██████████| 313/313 [00:05<00:00, 54.84it/s, Accuracy=0.87, Loss=1.59] \n"
     ]
    },
    {
     "name": "stdout",
     "output_type": "stream",
     "text": [
      "\n"
     ]
    },
    {
     "name": "stderr",
     "output_type": "stream",
     "text": [
      "Epoch 5/5: Train epoch: 100%|██████████| 188/188 [00:11<00:00, 15.89it/s, Accuracy=0.857, Loss=1.61]\n",
      "Epoch 5/5: Test epoch : 100%|██████████| 313/313 [00:05<00:00, 54.07it/s, Accuracy=0.894, Loss=1.57]\n"
     ]
    },
    {
     "name": "stdout",
     "output_type": "stream",
     "text": [
      "\n",
      "Evaluating the model on test set...\n"
     ]
    },
    {
     "name": "stderr",
     "output_type": "stream",
     "text": [
      "100%|██████████| 313/313 [00:05<00:00, 55.56it/s, Accuracy=0.894, Loss=1.57]\n"
     ]
    },
    {
     "name": "stdout",
     "output_type": "stream",
     "text": [
      "====================================================\n",
      "\n",
      "Training with 60000 samples...\n",
      "\n",
      "Training LeNet...\n"
     ]
    },
    {
     "name": "stderr",
     "output_type": "stream",
     "text": [
      "Epoch 1/5: Train epoch: 100%|██████████| 938/938 [00:20<00:00, 45.44it/s, Accuracy=0.787, Loss=1.68]\n",
      "Epoch 1/5: Test epoch : 100%|██████████| 157/157 [00:02<00:00, 59.59it/s, Accuracy=0.874, Loss=1.59]\n"
     ]
    },
    {
     "name": "stdout",
     "output_type": "stream",
     "text": [
      "\n"
     ]
    },
    {
     "name": "stderr",
     "output_type": "stream",
     "text": [
      "Epoch 2/5: Train epoch: 100%|██████████| 938/938 [00:20<00:00, 46.07it/s, Accuracy=0.959, Loss=1.5] \n",
      "Epoch 2/5: Test epoch : 100%|██████████| 157/157 [00:02<00:00, 61.80it/s, Accuracy=0.977, Loss=1.48]\n"
     ]
    },
    {
     "name": "stdout",
     "output_type": "stream",
     "text": [
      "\n"
     ]
    },
    {
     "name": "stderr",
     "output_type": "stream",
     "text": [
      "Epoch 3/5: Train epoch: 100%|██████████| 938/938 [00:19<00:00, 46.96it/s, Accuracy=0.976, Loss=1.49]\n",
      "Epoch 3/5: Test epoch : 100%|██████████| 157/157 [00:02<00:00, 58.20it/s, Accuracy=0.977, Loss=1.48]\n"
     ]
    },
    {
     "name": "stdout",
     "output_type": "stream",
     "text": [
      "\n"
     ]
    },
    {
     "name": "stderr",
     "output_type": "stream",
     "text": [
      "Epoch 4/5: Train epoch: 100%|██████████| 938/938 [00:20<00:00, 46.79it/s, Accuracy=0.979, Loss=1.48]\n",
      "Epoch 4/5: Test epoch : 100%|██████████| 157/157 [00:02<00:00, 60.18it/s, Accuracy=0.981, Loss=1.48]\n"
     ]
    },
    {
     "name": "stdout",
     "output_type": "stream",
     "text": [
      "\n"
     ]
    },
    {
     "name": "stderr",
     "output_type": "stream",
     "text": [
      "Epoch 5/5: Train epoch: 100%|██████████| 938/938 [00:20<00:00, 46.24it/s, Accuracy=0.981, Loss=1.48]\n",
      "Epoch 5/5: Test epoch : 100%|██████████| 157/157 [00:02<00:00, 60.43it/s, Accuracy=0.979, Loss=1.48]\n"
     ]
    },
    {
     "name": "stdout",
     "output_type": "stream",
     "text": [
      "\n",
      "Evaluating the model on test set...\n"
     ]
    },
    {
     "name": "stderr",
     "output_type": "stream",
     "text": [
      "100%|██████████| 157/157 [00:02<00:00, 65.23it/s, Accuracy=0.979, Loss=1.48]\n"
     ]
    },
    {
     "name": "stdout",
     "output_type": "stream",
     "text": [
      "\n",
      "Training VIT...\n"
     ]
    },
    {
     "name": "stderr",
     "output_type": "stream",
     "text": [
      "Epoch 1/5: Train epoch: 100%|██████████| 938/938 [02:02<00:00,  7.66it/s, Accuracy=0.812, Loss=1.66]\n",
      "Epoch 1/5: Test epoch : 100%|██████████| 157/157 [00:05<00:00, 27.46it/s, Accuracy=0.933, Loss=1.53]\n"
     ]
    },
    {
     "name": "stdout",
     "output_type": "stream",
     "text": [
      "\n"
     ]
    },
    {
     "name": "stderr",
     "output_type": "stream",
     "text": [
      "Epoch 2/5: Train epoch: 100%|██████████| 938/938 [02:03<00:00,  7.59it/s, Accuracy=0.909, Loss=1.55]\n",
      "Epoch 2/5: Test epoch : 100%|██████████| 157/157 [00:05<00:00, 26.26it/s, Accuracy=0.941, Loss=1.52]\n"
     ]
    },
    {
     "name": "stdout",
     "output_type": "stream",
     "text": [
      "\n"
     ]
    },
    {
     "name": "stderr",
     "output_type": "stream",
     "text": [
      "Epoch 3/5: Train epoch: 100%|██████████| 938/938 [01:55<00:00,  8.10it/s, Accuracy=0.916, Loss=1.55]\n",
      "Epoch 3/5: Test epoch : 100%|██████████| 157/157 [00:05<00:00, 29.03it/s, Accuracy=0.946, Loss=1.51]\n"
     ]
    },
    {
     "name": "stdout",
     "output_type": "stream",
     "text": [
      "\n"
     ]
    },
    {
     "name": "stderr",
     "output_type": "stream",
     "text": [
      "Epoch 4/5: Train epoch: 100%|██████████| 938/938 [01:55<00:00,  8.09it/s, Accuracy=0.922, Loss=1.54]\n",
      "Epoch 4/5: Test epoch : 100%|██████████| 157/157 [00:05<00:00, 28.78it/s, Accuracy=0.947, Loss=1.51]\n"
     ]
    },
    {
     "name": "stdout",
     "output_type": "stream",
     "text": [
      "\n"
     ]
    },
    {
     "name": "stderr",
     "output_type": "stream",
     "text": [
      "Epoch 5/5: Train epoch: 100%|██████████| 938/938 [01:57<00:00,  7.99it/s, Accuracy=0.928, Loss=1.53]\n",
      "Epoch 5/5: Test epoch : 100%|██████████| 157/157 [00:05<00:00, 28.30it/s, Accuracy=0.949, Loss=1.51]\n"
     ]
    },
    {
     "name": "stdout",
     "output_type": "stream",
     "text": [
      "\n",
      "Evaluating the model on test set...\n"
     ]
    },
    {
     "name": "stderr",
     "output_type": "stream",
     "text": [
      "100%|██████████| 157/157 [00:05<00:00, 29.80it/s, Accuracy=0.949, Loss=1.51]"
     ]
    },
    {
     "name": "stdout",
     "output_type": "stream",
     "text": [
      "====================================================\n",
      "\n"
     ]
    },
    {
     "name": "stderr",
     "output_type": "stream",
     "text": [
      "\n"
     ]
    }
   ],
   "source": [
    "train_dataset_sizes = [6000, 60000]\n",
    "LeNet_accuracies    = []\n",
    "VIT_accuracies      = []\n",
    "\n",
    "for train_dataset_size in train_dataset_sizes:\n",
    "    print(f\"Training with {train_dataset_size} samples...\")\n",
    "    print()\n",
    "\n",
    "    batch_size   = 32 if train_dataset_size < 10000 else 64\n",
    "    data_loaders = MNISTDataLoaders(batch_size=batch_size, train_subset_size=train_dataset_size)\n",
    "    train_loader = data_loaders.train_loader\n",
    "    test_loader  = data_loaders.test_loader\n",
    "\n",
    "    LeNet_model  = LeNet()\n",
    "    VIT_model    = VITTransformerEncoder()\n",
    "\n",
    "    LeNet_optimizer = optim.Adam(LeNet_model.parameters(), lr=0.001)\n",
    "    VIT_optimizer   = optim.Adam(VIT_model.parameters(),   lr=0.001)\n",
    "\n",
    "    LeNet_trainer = Trainer(LeNet_model, train_loader, test_loader, LeNet_optimizer)\n",
    "    VIT_trainer   = Trainer(VIT_model,   train_loader, test_loader, VIT_optimizer)\n",
    "\n",
    "    print(\"Training LeNet...\")\n",
    "    LeNet_trainer.train_epoch(epochs=5)\n",
    "    print(\"Evaluating the model on test set...\")\n",
    "    LeNet_test_acc, _ = LeNet_trainer.test_epoch()\n",
    "    print()\n",
    "\n",
    "    print(\"Training VIT...\")\n",
    "    VIT_trainer.train_epoch(epochs=5)\n",
    "    print(\"Evaluating the model on test set...\")\n",
    "    VIT_test_acc, _ = VIT_trainer.test_epoch()\n",
    "\n",
    "    LeNet_accuracies.append(LeNet_test_acc)\n",
    "    VIT_accuracies.append(VIT_test_acc)\n",
    "\n",
    "    print(\"====================================================\")\n",
    "    print()"
   ]
  },
  {
   "cell_type": "code",
   "execution_count": null,
   "metadata": {},
   "outputs": [
    {
     "data": {
      "image/png": "[encoded data removed]",
      "text/plain": [
       "<Figure size 900x500 with 1 Axes>"
      ]
     },
     "metadata": {},
     "output_type": "display_data"
    }
   ],
   "source": [
    "indices   = np.arange(len(train_dataset_sizes))\n",
    "bar_width = 0.35\n",
    "plt.figure(figsize=(9, 5))\n",
    "\n",
    "lenet_bars = plt.bar(indices,             LeNet_accuracies, bar_width, label='LeNet')\n",
    "vit_bars   = plt.bar(indices + bar_width, VIT_accuracies,   bar_width, label='VIT')\n",
    "\n",
    "plt.bar_label(lenet_bars, padding=1)\n",
    "plt.bar_label(vit_bars,   padding=1)\n",
    "\n",
    "plt.xlabel('Number of samples in training set')\n",
    "plt.ylabel('Test accuracy')\n",
    "plt.title('Accuracy vs. Size of training data for LeNet and ViT')\n",
    "plt.xticks(indices + bar_width / 2, [str(size) for size in train_dataset_sizes])\n",
    "plt.legend()\n",
    "plt.tight_layout()\n",
    "plt.show()"
   ]
  },
  {
   "cell_type": "markdown",
   "metadata": {},
   "source": [
    "- ### Straight away, we can see that the CNN model is much more efficient for lesser data\n",
    "- ### This shows the huge data requirement for attention and transformer architectures\n",
    "\n",
    "- ### This can be explained as follows:\n",
    "  - ### CNNs look at local spatial relationships in the data samples\n",
    "  - ### On the other hand, the attention mechanism needs to look at the entire data sample and computes attention scores between each token in the sample\n",
    "\n",
    "- ### Hence, to learn the patterns correctly, a lot more data is required by the transformer model to achieve similar performance as the CNN model\n",
    "- ### This is evident in the case of the training size of 60K images, where their performance is comparable"
   ]
  },
  {
   "cell_type": "markdown",
   "metadata": {},
   "source": [
    "<hr>"
   ]
  }
 ],
 "metadata": {
  "kernelspec": {
   "display_name": "cv",
   "language": "python",
   "name": "python3"
  },
  "language_info": {
   "codemirror_mode": {
    "name": "ipython",
    "version": 3
   },
   "file_extension": ".py",
   "mimetype": "text/x-python",
   "name": "python",
   "nbconvert_exporter": "python",
   "pygments_lexer": "ipython3",
   "version": "3.10.13"
  }
 },
 "nbformat": 4,
 "nbformat_minor": 2
}
